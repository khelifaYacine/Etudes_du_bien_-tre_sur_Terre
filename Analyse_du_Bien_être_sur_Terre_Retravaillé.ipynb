{
  "cells": [
    {
      "cell_type": "markdown",
      "metadata": {
        "id": "view-in-github",
        "colab_type": "text"
      },
      "source": [
        "<a href=\"https://colab.research.google.com/github/khelifaYacine/Etudes-de-l-inflation-Mondiale/blob/main/Analyse_du_Bien_%C3%AAtre_sur_Terre_Retravaill%C3%A9.ipynb\" target=\"_parent\"><img src=\"https://colab.research.google.com/assets/colab-badge.svg\" alt=\"Open In Colab\"/></a>"
      ]
    },
    {
      "cell_type": "code",
      "source": [
        "from google.colab import drive\n",
        "drive.mount('/content/drive')"
      ],
      "metadata": {
        "colab": {
          "base_uri": "https://localhost:8080/"
        },
        "id": "XtQ2Z7NEinS3",
        "outputId": "cc3a87a4-e086-4699-9984-8b98ba5b9ed2"
      },
      "id": "XtQ2Z7NEinS3",
      "execution_count": 5,
      "outputs": [
        {
          "output_type": "stream",
          "name": "stdout",
          "text": [
            "Drive already mounted at /content/drive; to attempt to forcibly remount, call drive.mount(\"/content/drive\", force_remount=True).\n"
          ]
        }
      ]
    },
    {
      "cell_type": "markdown",
      "id": "abce9efc",
      "metadata": {
        "id": "abce9efc"
      },
      "source": [
        "#                       Projet Analyse du bien-être sur Terre"
      ]
    },
    {
      "cell_type": "markdown",
      "id": "0a30ae50",
      "metadata": {
        "id": "0a30ae50"
      },
      "source": [
        "## Présentation du jeux de données :\n",
        "\n",
        "- Country name : Nom du pays.\n",
        "- year : Année de l'enquête.\n",
        "- Life Ladder : Indicateur du bonheur de vie (plus la valeur est élevée, plus le bonheur est élevé).\n",
        "- Log GDP per capita : PIB par habitant enregistré sur une échelle logarithmique.\n",
        "- Social support : Mesure du soutien social perçu.\n",
        "- Healthy life expectancy at birth : Espérance de vie en bonne santé à la naissance.\n",
        "- Freedom to make life choices : Mesure de la liberté de faire des choix dans la vie.\n",
        "- Generosity : Mesure de la générosité de la population.\n",
        "- Perceptions of corruption : Mesure de la perception de la corruption dans le pays.\n",
        "- Positive affect : Mesure de l'affectio positif.\n",
        "- Negative affect : Mesure de l'affection négatif."
      ]
    },
    {
      "cell_type": "markdown",
      "id": "39f5e310",
      "metadata": {
        "id": "39f5e310"
      },
      "source": [
        "## 1) Exploration des données"
      ]
    },
    {
      "cell_type": "markdown",
      "id": "24e7d967",
      "metadata": {
        "id": "24e7d967"
      },
      "source": [
        "### Etape 1/ comprendre nos données"
      ]
    },
    {
      "cell_type": "code",
      "execution_count": 1,
      "id": "06c3e431",
      "metadata": {
        "id": "06c3e431"
      },
      "outputs": [],
      "source": [
        "#importation des packages\n",
        "\n",
        "import pandas as pd\n",
        "import numpy as np\n",
        "import matplotlib.pyplot as plt\n",
        "import seaborn as sns\n",
        "\n",
        "\n",
        "\n",
        "from sklearn.model_selection import train_test_split\n",
        "\n"
      ]
    },
    {
      "cell_type": "code",
      "execution_count": 2,
      "id": "8e7a3768",
      "metadata": {
        "colab": {
          "base_uri": "https://localhost:8080/",
          "height": 304
        },
        "id": "8e7a3768",
        "outputId": "7e2fe7df-21ed-4591-82f2-117416b3a7e3"
      },
      "outputs": [
        {
          "output_type": "error",
          "ename": "FileNotFoundError",
          "evalue": "[Errno 2] No such file or directory: 'world-happiness-report.csv'",
          "traceback": [
            "\u001b[0;31m---------------------------------------------------------------------------\u001b[0m",
            "\u001b[0;31mFileNotFoundError\u001b[0m                         Traceback (most recent call last)",
            "\u001b[0;32m<ipython-input-2-2faf6092c91a>\u001b[0m in \u001b[0;36m<cell line: 1>\u001b[0;34m()\u001b[0m\n\u001b[0;32m----> 1\u001b[0;31m \u001b[0mdf\u001b[0m \u001b[0;34m=\u001b[0m \u001b[0mpd\u001b[0m\u001b[0;34m.\u001b[0m\u001b[0mread_csv\u001b[0m\u001b[0;34m(\u001b[0m\u001b[0;34m\"world-happiness-report.csv\"\u001b[0m\u001b[0;34m)\u001b[0m\u001b[0;34m\u001b[0m\u001b[0;34m\u001b[0m\u001b[0m\n\u001b[0m",
            "\u001b[0;32m/usr/local/lib/python3.10/dist-packages/pandas/util/_decorators.py\u001b[0m in \u001b[0;36mwrapper\u001b[0;34m(*args, **kwargs)\u001b[0m\n\u001b[1;32m    209\u001b[0m                 \u001b[0;32melse\u001b[0m\u001b[0;34m:\u001b[0m\u001b[0;34m\u001b[0m\u001b[0;34m\u001b[0m\u001b[0m\n\u001b[1;32m    210\u001b[0m                     \u001b[0mkwargs\u001b[0m\u001b[0;34m[\u001b[0m\u001b[0mnew_arg_name\u001b[0m\u001b[0;34m]\u001b[0m \u001b[0;34m=\u001b[0m \u001b[0mnew_arg_value\u001b[0m\u001b[0;34m\u001b[0m\u001b[0;34m\u001b[0m\u001b[0m\n\u001b[0;32m--> 211\u001b[0;31m             \u001b[0;32mreturn\u001b[0m \u001b[0mfunc\u001b[0m\u001b[0;34m(\u001b[0m\u001b[0;34m*\u001b[0m\u001b[0margs\u001b[0m\u001b[0;34m,\u001b[0m \u001b[0;34m**\u001b[0m\u001b[0mkwargs\u001b[0m\u001b[0;34m)\u001b[0m\u001b[0;34m\u001b[0m\u001b[0;34m\u001b[0m\u001b[0m\n\u001b[0m\u001b[1;32m    212\u001b[0m \u001b[0;34m\u001b[0m\u001b[0m\n\u001b[1;32m    213\u001b[0m         \u001b[0;32mreturn\u001b[0m \u001b[0mcast\u001b[0m\u001b[0;34m(\u001b[0m\u001b[0mF\u001b[0m\u001b[0;34m,\u001b[0m \u001b[0mwrapper\u001b[0m\u001b[0;34m)\u001b[0m\u001b[0;34m\u001b[0m\u001b[0;34m\u001b[0m\u001b[0m\n",
            "\u001b[0;32m/usr/local/lib/python3.10/dist-packages/pandas/util/_decorators.py\u001b[0m in \u001b[0;36mwrapper\u001b[0;34m(*args, **kwargs)\u001b[0m\n\u001b[1;32m    329\u001b[0m                     \u001b[0mstacklevel\u001b[0m\u001b[0;34m=\u001b[0m\u001b[0mfind_stack_level\u001b[0m\u001b[0;34m(\u001b[0m\u001b[0;34m)\u001b[0m\u001b[0;34m,\u001b[0m\u001b[0;34m\u001b[0m\u001b[0;34m\u001b[0m\u001b[0m\n\u001b[1;32m    330\u001b[0m                 )\n\u001b[0;32m--> 331\u001b[0;31m             \u001b[0;32mreturn\u001b[0m \u001b[0mfunc\u001b[0m\u001b[0;34m(\u001b[0m\u001b[0;34m*\u001b[0m\u001b[0margs\u001b[0m\u001b[0;34m,\u001b[0m \u001b[0;34m**\u001b[0m\u001b[0mkwargs\u001b[0m\u001b[0;34m)\u001b[0m\u001b[0;34m\u001b[0m\u001b[0;34m\u001b[0m\u001b[0m\n\u001b[0m\u001b[1;32m    332\u001b[0m \u001b[0;34m\u001b[0m\u001b[0m\n\u001b[1;32m    333\u001b[0m         \u001b[0;31m# error: \"Callable[[VarArg(Any), KwArg(Any)], Any]\" has no\u001b[0m\u001b[0;34m\u001b[0m\u001b[0;34m\u001b[0m\u001b[0m\n",
            "\u001b[0;32m/usr/local/lib/python3.10/dist-packages/pandas/io/parsers/readers.py\u001b[0m in \u001b[0;36mread_csv\u001b[0;34m(filepath_or_buffer, sep, delimiter, header, names, index_col, usecols, squeeze, prefix, mangle_dupe_cols, dtype, engine, converters, true_values, false_values, skipinitialspace, skiprows, skipfooter, nrows, na_values, keep_default_na, na_filter, verbose, skip_blank_lines, parse_dates, infer_datetime_format, keep_date_col, date_parser, dayfirst, cache_dates, iterator, chunksize, compression, thousands, decimal, lineterminator, quotechar, quoting, doublequote, escapechar, comment, encoding, encoding_errors, dialect, error_bad_lines, warn_bad_lines, on_bad_lines, delim_whitespace, low_memory, memory_map, float_precision, storage_options)\u001b[0m\n\u001b[1;32m    948\u001b[0m     \u001b[0mkwds\u001b[0m\u001b[0;34m.\u001b[0m\u001b[0mupdate\u001b[0m\u001b[0;34m(\u001b[0m\u001b[0mkwds_defaults\u001b[0m\u001b[0;34m)\u001b[0m\u001b[0;34m\u001b[0m\u001b[0;34m\u001b[0m\u001b[0m\n\u001b[1;32m    949\u001b[0m \u001b[0;34m\u001b[0m\u001b[0m\n\u001b[0;32m--> 950\u001b[0;31m     \u001b[0;32mreturn\u001b[0m \u001b[0m_read\u001b[0m\u001b[0;34m(\u001b[0m\u001b[0mfilepath_or_buffer\u001b[0m\u001b[0;34m,\u001b[0m \u001b[0mkwds\u001b[0m\u001b[0;34m)\u001b[0m\u001b[0;34m\u001b[0m\u001b[0;34m\u001b[0m\u001b[0m\n\u001b[0m\u001b[1;32m    951\u001b[0m \u001b[0;34m\u001b[0m\u001b[0m\n\u001b[1;32m    952\u001b[0m \u001b[0;34m\u001b[0m\u001b[0m\n",
            "\u001b[0;32m/usr/local/lib/python3.10/dist-packages/pandas/io/parsers/readers.py\u001b[0m in \u001b[0;36m_read\u001b[0;34m(filepath_or_buffer, kwds)\u001b[0m\n\u001b[1;32m    603\u001b[0m \u001b[0;34m\u001b[0m\u001b[0m\n\u001b[1;32m    604\u001b[0m     \u001b[0;31m# Create the parser.\u001b[0m\u001b[0;34m\u001b[0m\u001b[0;34m\u001b[0m\u001b[0m\n\u001b[0;32m--> 605\u001b[0;31m     \u001b[0mparser\u001b[0m \u001b[0;34m=\u001b[0m \u001b[0mTextFileReader\u001b[0m\u001b[0;34m(\u001b[0m\u001b[0mfilepath_or_buffer\u001b[0m\u001b[0;34m,\u001b[0m \u001b[0;34m**\u001b[0m\u001b[0mkwds\u001b[0m\u001b[0;34m)\u001b[0m\u001b[0;34m\u001b[0m\u001b[0;34m\u001b[0m\u001b[0m\n\u001b[0m\u001b[1;32m    606\u001b[0m \u001b[0;34m\u001b[0m\u001b[0m\n\u001b[1;32m    607\u001b[0m     \u001b[0;32mif\u001b[0m \u001b[0mchunksize\u001b[0m \u001b[0;32mor\u001b[0m \u001b[0miterator\u001b[0m\u001b[0;34m:\u001b[0m\u001b[0;34m\u001b[0m\u001b[0;34m\u001b[0m\u001b[0m\n",
            "\u001b[0;32m/usr/local/lib/python3.10/dist-packages/pandas/io/parsers/readers.py\u001b[0m in \u001b[0;36m__init__\u001b[0;34m(self, f, engine, **kwds)\u001b[0m\n\u001b[1;32m   1440\u001b[0m \u001b[0;34m\u001b[0m\u001b[0m\n\u001b[1;32m   1441\u001b[0m         \u001b[0mself\u001b[0m\u001b[0;34m.\u001b[0m\u001b[0mhandles\u001b[0m\u001b[0;34m:\u001b[0m \u001b[0mIOHandles\u001b[0m \u001b[0;34m|\u001b[0m \u001b[0;32mNone\u001b[0m \u001b[0;34m=\u001b[0m \u001b[0;32mNone\u001b[0m\u001b[0;34m\u001b[0m\u001b[0;34m\u001b[0m\u001b[0m\n\u001b[0;32m-> 1442\u001b[0;31m         \u001b[0mself\u001b[0m\u001b[0;34m.\u001b[0m\u001b[0m_engine\u001b[0m \u001b[0;34m=\u001b[0m \u001b[0mself\u001b[0m\u001b[0;34m.\u001b[0m\u001b[0m_make_engine\u001b[0m\u001b[0;34m(\u001b[0m\u001b[0mf\u001b[0m\u001b[0;34m,\u001b[0m \u001b[0mself\u001b[0m\u001b[0;34m.\u001b[0m\u001b[0mengine\u001b[0m\u001b[0;34m)\u001b[0m\u001b[0;34m\u001b[0m\u001b[0;34m\u001b[0m\u001b[0m\n\u001b[0m\u001b[1;32m   1443\u001b[0m \u001b[0;34m\u001b[0m\u001b[0m\n\u001b[1;32m   1444\u001b[0m     \u001b[0;32mdef\u001b[0m \u001b[0mclose\u001b[0m\u001b[0;34m(\u001b[0m\u001b[0mself\u001b[0m\u001b[0;34m)\u001b[0m \u001b[0;34m->\u001b[0m \u001b[0;32mNone\u001b[0m\u001b[0;34m:\u001b[0m\u001b[0;34m\u001b[0m\u001b[0;34m\u001b[0m\u001b[0m\n",
            "\u001b[0;32m/usr/local/lib/python3.10/dist-packages/pandas/io/parsers/readers.py\u001b[0m in \u001b[0;36m_make_engine\u001b[0;34m(self, f, engine)\u001b[0m\n\u001b[1;32m   1733\u001b[0m                 \u001b[0;32mif\u001b[0m \u001b[0;34m\"b\"\u001b[0m \u001b[0;32mnot\u001b[0m \u001b[0;32min\u001b[0m \u001b[0mmode\u001b[0m\u001b[0;34m:\u001b[0m\u001b[0;34m\u001b[0m\u001b[0;34m\u001b[0m\u001b[0m\n\u001b[1;32m   1734\u001b[0m                     \u001b[0mmode\u001b[0m \u001b[0;34m+=\u001b[0m \u001b[0;34m\"b\"\u001b[0m\u001b[0;34m\u001b[0m\u001b[0;34m\u001b[0m\u001b[0m\n\u001b[0;32m-> 1735\u001b[0;31m             self.handles = get_handle(\n\u001b[0m\u001b[1;32m   1736\u001b[0m                 \u001b[0mf\u001b[0m\u001b[0;34m,\u001b[0m\u001b[0;34m\u001b[0m\u001b[0;34m\u001b[0m\u001b[0m\n\u001b[1;32m   1737\u001b[0m                 \u001b[0mmode\u001b[0m\u001b[0;34m,\u001b[0m\u001b[0;34m\u001b[0m\u001b[0;34m\u001b[0m\u001b[0m\n",
            "\u001b[0;32m/usr/local/lib/python3.10/dist-packages/pandas/io/common.py\u001b[0m in \u001b[0;36mget_handle\u001b[0;34m(path_or_buf, mode, encoding, compression, memory_map, is_text, errors, storage_options)\u001b[0m\n\u001b[1;32m    854\u001b[0m         \u001b[0;32mif\u001b[0m \u001b[0mioargs\u001b[0m\u001b[0;34m.\u001b[0m\u001b[0mencoding\u001b[0m \u001b[0;32mand\u001b[0m \u001b[0;34m\"b\"\u001b[0m \u001b[0;32mnot\u001b[0m \u001b[0;32min\u001b[0m \u001b[0mioargs\u001b[0m\u001b[0;34m.\u001b[0m\u001b[0mmode\u001b[0m\u001b[0;34m:\u001b[0m\u001b[0;34m\u001b[0m\u001b[0;34m\u001b[0m\u001b[0m\n\u001b[1;32m    855\u001b[0m             \u001b[0;31m# Encoding\u001b[0m\u001b[0;34m\u001b[0m\u001b[0;34m\u001b[0m\u001b[0m\n\u001b[0;32m--> 856\u001b[0;31m             handle = open(\n\u001b[0m\u001b[1;32m    857\u001b[0m                 \u001b[0mhandle\u001b[0m\u001b[0;34m,\u001b[0m\u001b[0;34m\u001b[0m\u001b[0;34m\u001b[0m\u001b[0m\n\u001b[1;32m    858\u001b[0m                 \u001b[0mioargs\u001b[0m\u001b[0;34m.\u001b[0m\u001b[0mmode\u001b[0m\u001b[0;34m,\u001b[0m\u001b[0;34m\u001b[0m\u001b[0;34m\u001b[0m\u001b[0m\n",
            "\u001b[0;31mFileNotFoundError\u001b[0m: [Errno 2] No such file or directory: 'world-happiness-report.csv'"
          ]
        }
      ],
      "source": [
        "df = pd.read_csv(\"world-happiness-report.csv\")\n"
      ]
    },
    {
      "cell_type": "markdown",
      "id": "807c4f97",
      "metadata": {
        "id": "807c4f97"
      },
      "source": [
        "A- Afficher les premières lignes du Dataset 2005 à 2020:"
      ]
    },
    {
      "cell_type": "code",
      "execution_count": null,
      "id": "2c5da014",
      "metadata": {
        "id": "2c5da014"
      },
      "outputs": [],
      "source": [
        "df.head(10)"
      ]
    },
    {
      "cell_type": "markdown",
      "id": "6b6a8b0f",
      "metadata": {
        "id": "6b6a8b0f"
      },
      "source": []
    },
    {
      "cell_type": "markdown",
      "id": "dd015cf8",
      "metadata": {
        "id": "dd015cf8"
      },
      "source": [
        "1- Consultation des informations de nos données"
      ]
    },
    {
      "cell_type": "code",
      "execution_count": null,
      "id": "08d170cc",
      "metadata": {
        "id": "08d170cc"
      },
      "outputs": [],
      "source": [
        "df.info()"
      ]
    },
    {
      "cell_type": "code",
      "execution_count": null,
      "id": "47b27705",
      "metadata": {
        "id": "47b27705"
      },
      "outputs": [],
      "source": []
    },
    {
      "cell_type": "markdown",
      "id": "b8fce1d1",
      "metadata": {
        "id": "b8fce1d1"
      },
      "source": [
        "2 - Analyse des valeurs manquantes pour chaque variable :"
      ]
    },
    {
      "cell_type": "code",
      "execution_count": null,
      "id": "bf92a02a",
      "metadata": {
        "id": "bf92a02a"
      },
      "outputs": [],
      "source": [
        "df.isna().sum()"
      ]
    },
    {
      "cell_type": "code",
      "execution_count": null,
      "id": "3c529981",
      "metadata": {
        "id": "3c529981"
      },
      "outputs": [],
      "source": [
        "df.duplicated ().sum()#Analyse de valeurs dupliquées !"
      ]
    },
    {
      "cell_type": "markdown",
      "id": "fde88f8c",
      "metadata": {
        "id": "fde88f8c"
      },
      "source": [
        " 3- Résumé statistique des variables numériques :"
      ]
    },
    {
      "cell_type": "code",
      "execution_count": null,
      "id": "bac32ae4",
      "metadata": {
        "id": "bac32ae4"
      },
      "outputs": [],
      "source": [
        "df.describe()"
      ]
    },
    {
      "cell_type": "markdown",
      "id": "fd0ca817",
      "metadata": {
        "id": "fd0ca817"
      },
      "source": [
        "4- Identifier les valeurs uniques dans les colonnes catégorielles :"
      ]
    },
    {
      "cell_type": "code",
      "execution_count": null,
      "id": "403fee84",
      "metadata": {
        "id": "403fee84"
      },
      "outputs": [],
      "source": [
        "df[\"year\"].unique () #voir sur combien d'année que l'étude à été menée"
      ]
    },
    {
      "cell_type": "code",
      "execution_count": null,
      "id": "162530c8",
      "metadata": {
        "id": "162530c8"
      },
      "outputs": [],
      "source": [
        "df.sort_values(by = \"year\", ascending = True ,inplace = True ) # On ordonne les années"
      ]
    },
    {
      "cell_type": "code",
      "execution_count": null,
      "id": "8125b669",
      "metadata": {
        "id": "8125b669"
      },
      "outputs": [],
      "source": [
        "df[\"Country name\"].unique () #voir les pays inclus dans l'études"
      ]
    },
    {
      "cell_type": "markdown",
      "id": "83103cc0",
      "metadata": {
        "id": "83103cc0"
      },
      "source": []
    },
    {
      "cell_type": "markdown",
      "id": "2ee1254f",
      "metadata": {
        "id": "2ee1254f"
      },
      "source": [
        "1 - creation de colonne \"Region indicator\" pour classifier les pays."
      ]
    },
    {
      "cell_type": "markdown",
      "id": "bf5d2055",
      "metadata": {
        "id": "bf5d2055"
      },
      "source": [
        "la calassification est  la suivantes :\n",
        "- 'South Asia',\n",
        "- 'Central and Eastern Europe',\n",
        "- 'Middle East and North Africa',\n",
        "- 'Sub-Saharan Africa',\n",
        "- 'Latin America and Caribbean',\n",
        "- 'Commonwealth of Independent States',\n",
        "- 'Australia and New Zealand',\n",
        "- 'Western Europe',\n",
        "- 'Southeast Asia',\n",
        "- 'North America',\n",
        "- 'East Asia']"
      ]
    },
    {
      "cell_type": "code",
      "execution_count": null,
      "id": "c06edf27",
      "metadata": {
        "id": "c06edf27"
      },
      "outputs": [],
      "source": []
    },
    {
      "cell_type": "code",
      "execution_count": null,
      "id": "ddda2cc1",
      "metadata": {
        "id": "ddda2cc1"
      },
      "outputs": [],
      "source": [
        "def get_regional_indicator(country_name):\n",
        "    # Dictionnaire de correspondance des pays avec leur région\n",
        "    country_to_region = {\n",
        "        \"Denmark\": \"Western Europe\",\n",
        "        \"France\": \"Western Europe\",\n",
        "        \"Mexico\": \"Latin America and Caribbean\",\n",
        "        \"Germany\": \"Western Europe\",\n",
        "        \"Poland\": \"Central and Eastern Europe\",\n",
        "        \"Spain\": \"Western Europe\",\n",
        "        \"Greece\": \"Western Europe\",\n",
        "        \"Brazil\": \"Latin America and Caribbean\",\n",
        "        \"Sweden\": \"Western Europe\",\n",
        "        \"Egypt\": \"Middle East and North Africa\",\n",
        "        \"Saudi Arabia\": \"Middle East and North Africa\",\n",
        "        \"Lebanon\": \"Middle East and North Africa\",\n",
        "        \"Netherlands\": \"Western Europe\",\n",
        "        \"Australia\": \"Australia and New Zealand\",\n",
        "        \"United Kingdom\": \"Western Europe\",\n",
        "        \"Canada\": \"North America\",\n",
        "        \"Iran\": \"Middle East and North Africa\",\n",
        "        \"Pakistan\": \"South Asia\",\n",
        "        \"Hungary\": \"Central and Eastern Europe\",\n",
        "        \"Czech Republic\": \"Central and Eastern Europe\",\n",
        "        \"Belgium\": \"Western Europe\",\n",
        "        \"Turkey\": \"Middle East and North Africa\",\n",
        "        \"Jordan\": \"Middle East and North Africa\",\n",
        "        \"Venezuela\": \"Latin America and Caribbean\",\n",
        "        \"Italy\": \"Western Europe\",\n",
        "        \"Japan\": \"East Asia\",\n",
        "        \"Romania\": \"Central and Eastern Europe\",\n",
        "        \"Portugal\": \"Western Europe\",\n",
        "        \"Singapore\": \"Southeast Asia\",\n",
        "        \"Sierra Leone\": \"Sub-Saharan Africa\",\n",
        "        \"Rwanda\": \"Sub-Saharan Africa\",\n",
        "        \"Chile\": \"Latin America and Caribbean\",\n",
        "        \"Senegal\": \"Sub-Saharan Africa\",\n",
        "        \"Russia\": \"Commonwealth of Independent States\",\n",
        "        \"Colombia\": \"Latin America and Caribbean\",\n",
        "        \"Chad\": \"Sub-Saharan Africa\",\n",
        "        \"China\": \"East Asia\",\n",
        "        \"South Korea\": \"East Asia\",\n",
        "        \"Slovenia\": \"Central and Eastern Europe\",\n",
        "        \"Uganda\": \"Sub-Saharan Africa\",\n",
        "        \"Belarus\": \"Commonwealth of Independent States\",\n",
        "        \"Trinidad and Tobago\": \"Latin America and Caribbean\",\n",
        "        \"Togo\": \"Sub-Saharan Africa\",\n",
        "        \"Benin\": \"Sub-Saharan Africa\",\n",
        "        \"Thailand\": \"Southeast Asia\",\n",
        "        \"Tanzania\": \"Sub-Saharan Africa\",\n",
        "        \"Bolivia\": \"Latin America and Caribbean\",\n",
        "        \"Tajikistan\": \"Commonwealth of Independent States\",\n",
        "        \"Taiwan Province of China\": \"East Asia\",\n",
        "        \"Switzerland\": \"Western Europe\",\n",
        "        \"Botswana\": \"Sub-Saharan Africa\",\n",
        "        \"Sri Lanka\": \"South Asia\",\n",
        "        \"Burkina Faso\": \"Sub-Saharan Africa\",\n",
        "        \"Cambodia\": \"Southeast Asia\",\n",
        "        \"South Africa\": \"Sub-Saharan Africa\",\n",
        "        \"Cameroon\": \"Sub-Saharan Africa\",\n",
        "        \"Slovakia\": \"Central and Eastern Europe\",\n",
        "        \"Philippines\": \"Southeast Asia\",\n",
        "        \"Costa Rica\": \"Latin America and Caribbean\",\n",
        "        \"Cuba\": \"Latin America and Caribbean\",\n",
        "        \"Malawi\": \"Sub-Saharan Africa\",\n",
        "        \"Madagascar\": \"Sub-Saharan Africa\",\n",
        "        \"Guatemala\": \"Latin America and Caribbean\",\n",
        "        \"Lithuania\": \"Central and Eastern Europe\",\n",
        "        \"Haiti\": \"Latin America and Caribbean\",\n",
        "        \"Latvia\": \"Central and Eastern Europe\",\n",
        "        \"Honduras\": \"Latin America and Caribbean\",\n",
        "        \"Malaysia\": \"Southeast Asia\",\n",
        "        \"Laos\": \"Southeast Asia\",\n",
        "        \"Kyrgyzstan\": \"Commonwealth of Independent States\",\n",
        "        \"Kuwait\": \"Middle East and North Africa\",\n",
        "        \"Kenya\": \"Sub-Saharan Africa\",\n",
        "        \"India\": \"South Asia\",\n",
        "        \"Kazakhstan\": \"Commonwealth of Independent States\",\n",
        "        \"Indonesia\": \"Southeast Asia\",\n",
        "        \"Jamaica\": \"Latin America and Caribbean\",\n",
        "        \"Ireland\": \"Western Europe\",\n",
        "        \"Hong Kong S.A.R. of China\": \"East Asia\",\n",
        "        \"Ghana\": \"Sub-Saharan Africa\",\n",
        "        \"Mali\": \"Sub-Saharan Africa\",\n",
        "        \"Georgia\": \"Commonwealth of Independent States\",\n",
        "        \"Cyprus\": \"Middle East and North Africa\",\n",
        "        \"Paraguay\": \"Latin America and Caribbean\",\n",
        "        \"Panama\": \"Latin America and Caribbean\",\n",
        "        \"Palestinian Territories\": \"Middle East and North Africa\",\n",
        "        \"Bangladesh\": \"South Asia\",\n",
        "        \"Dominican Republic\": \"Latin America and Caribbean\",\n",
        "        \"Norway\": \"Western Europe\",\n",
        "        \"Ecuador\": \"Latin America and Caribbean\",\n",
        "        \"Nigeria\": \"Sub-Saharan Africa\",\n",
        "        \"Niger\": \"Sub-Saharan Africa\",\n",
        "        \"Nicaragua\": \"Latin America and Caribbean\",\n",
        "        \"El Salvador\": \"Latin America and Caribbean\",\n",
        "        \"New Zealand\": \"Australia and New Zealand\",\n",
        "        \"Estonia\": \"Central and Eastern Europe\",\n",
        "        \"Nepal\": \"South Asia\",\n",
        "        \"Mozambique\": \"Sub-Saharan Africa\",\n",
        "        \"Finland\": \"Western Europe\",\n",
        "        \"Moldova\": \"Commonwealth of Independent States\",\n",
        "        \"Peru\": \"Latin America and Caribbean\",\n",
        "        \"Ukraine\": \"Commonwealth of Independent States\",\n",
        "        \"Israel\": \"Middle East and North Africa\",\n",
        "        \"Azerbaijan\": \"Commonwealth of Independent States\",\n",
        "        \"Vietnam\": \"Southeast Asia\",\n",
        "        \"Uruguay\": \"Latin America and Caribbean\",\n",
        "        \"Zimbabwe\": \"Sub-Saharan Africa\",\n",
        "        \"Armenia\": \"Commonwealth of Independent States\",\n",
        "        \"Austria\": \"Western Europe\",\n",
        "        \"Argentina\": \"Latin America and Caribbean\",\n",
        "        \"United States\": \"North America\",\n",
        "        \"Zambia\": \"Sub-Saharan Africa\",\n",
        "        \"United Arab Emirates\": \"Middle East and North Africa\",\n",
        "        \"Uzbekistan\": \"Commonwealth of Independent States\",\n",
        "        \"Liberia\": \"Sub-Saharan Africa\",\n",
        "        \"Bosnia and Herzegovina\": \"Central and Eastern Europe\",\n",
        "        \"Montenegro\": \"Central and Eastern Europe\",\n",
        "        \"Croatia\": \"Central and Eastern Europe\",\n",
        "        \"Central African Republic\": \"Sub-Saharan Africa\",\n",
        "        \"Mongolia\": \"East Asia\",\n",
        "        \"Bulgaria\": \"Central and Eastern Europe\",\n",
        "        \"Albania\": \"Central and Eastern Europe\",\n",
        "        \"Mauritania\": \"Sub-Saharan Africa\",\n",
        "        \"Yemen\": \"Middle East and North Africa\",\n",
        "        \"Kosovo\": \"Central and Eastern Europe\",\n",
        "        \"Serbia\": \"Central and Eastern Europe\",\n",
        "        \"North Macedonia\": \"Central and Eastern Europe\",\n",
        "        \"Belize\": \"Latin America and Caribbean\",\n",
        "        \"Guyana\": \"Latin America and Caribbean\",\n",
        "        \"Namibia\": \"Sub-Saharan Africa\",\n",
        "        \"Afghanistan\": \"South Asia\",\n",
        "        \"Djibouti\": \"Sub-Saharan Africa\",\n",
        "        \"Congo (Brazzaville)\": \"Sub-Saharan Africa\",\n",
        "        \"Iceland\": \"Western Europe\",\n",
        "        \"Iraq\": \"Middle East and North Africa\",\n",
        "        \"Syria\": \"Middle East and North Africa\",\n",
        "        \"Burundi\": \"Sub-Saharan Africa\",\n",
        "        \"Congo (Kinshasa)\": \"Sub-Saharan Africa\",\n",
        "        \"Qatar\": \"Middle East and North Africa\",\n",
        "        \"Ivory Coast\": \"Sub-Saharan Africa\",\n",
        "        \"Tunisia\": \"Middle East and North Africa\",\n",
        "        \"Turkmenistan\": \"Commonwealth of Independent States\",\n",
        "        \"Comoros\": \"Sub-Saharan Africa\",\n",
        "        \"Bahrain\": \"Middle East and North Africa\",\n",
        "        \"Somaliland region\": \"Sub-Saharan Africa\",\n",
        "        \"Luxembourg\": \"Western Europe\",\n",
        "        \"Malta\": \"Western Europe\",\n",
        "        \"Sudan\": \"Sub-Saharan Africa\",\n",
        "        \"Algeria\": \"Middle East and North Africa\",\n",
        "        \"Morocco\": \"Middle East and North Africa\",\n",
        "        \"Swaziland\": \"Sub-Saharan Africa\",\n",
        "        \"Guinea\": \"Sub-Saharan Africa\",\n",
        "        \"Lesotho\": \"Sub-Saharan Africa\",\n",
        "        \"Oman\": \"Middle East and North Africa\",\n",
        "        \"Angola\": \"Sub-Saharan Africa\",\n",
        "        \"Gabon\": \"Sub-Saharan Africa\",\n",
        "        \"Mauritius\": \"Sub-Saharan Africa\",\n",
        "        \"Myanmar\": \"Southeast Asia\",\n",
        "        \"North Cyprus\": \"Western Europe\",\n",
        "        \"Suriname\": \"Latin America and Caribbean\",\n",
        "        \"Libya\": \"Middle East and North Africa\",\n",
        "        \"Ethiopia\": \"Sub-Saharan Africa\",\n",
        "        \"Bhutan\": \"South Asia\",\n",
        "        \"Somalia\": \"Sub-Saharan Africa\",\n",
        "        \"South Sudan\": \"Sub-Saharan Africa\",\n",
        "        \"Gambia\": \"Sub-Saharan Africa\",\n",
        "        \"Maldives\": \"South Asia\"\n",
        "    }\n",
        "\n",
        "    # Recherche le pays dans le dictionnaire\n",
        "    if country_name in country_to_region:\n",
        "        return country_to_region[country_name]\n",
        "    else:\n",
        "        return \"Unknown\"\n",
        "\n",
        "# Ajouter une colonne \"Regional indicator\" dans le DataFrame\n",
        "df[\"Regional indicator\"] = df[\"Country name\"].apply(get_regional_indicator)\n"
      ]
    },
    {
      "cell_type": "code",
      "execution_count": null,
      "id": "f7d5f1b4",
      "metadata": {
        "id": "f7d5f1b4"
      },
      "outputs": [],
      "source": [
        "df.head()"
      ]
    },
    {
      "cell_type": "code",
      "execution_count": null,
      "id": "779c3c1b",
      "metadata": {
        "id": "779c3c1b"
      },
      "outputs": [],
      "source": []
    },
    {
      "cell_type": "markdown",
      "id": "75f7eb4b",
      "metadata": {
        "id": "75f7eb4b"
      },
      "source": []
    },
    {
      "cell_type": "markdown",
      "id": "7b610a29",
      "metadata": {
        "id": "7b610a29"
      },
      "source": [
        "### Étape 2/ Exploration et analyse des données avec DataViz"
      ]
    },
    {
      "cell_type": "markdown",
      "id": "034b4011",
      "metadata": {
        "id": "034b4011"
      },
      "source": [
        "a- Boxplot du score du bonheur par années"
      ]
    },
    {
      "cell_type": "code",
      "execution_count": null,
      "id": "cf4f667a",
      "metadata": {
        "id": "cf4f667a"
      },
      "outputs": [],
      "source": [
        "# Sélectionner les variables catégorielles\n",
        "variables_catégorielles = [ 'year']\n",
        "\n",
        "# Tracer des boxplots pour chaque variable catégorielle\n",
        "for variable in variables_catégorielles:\n",
        "    plt.figure(figsize=(10, 6))\n",
        "    sns.boxplot(x=variable, y='Life Ladder', data=df)\n",
        "    plt.title(f'Boxplot du score de bonheur par {variable}')\n",
        "    plt.xlabel(variable)\n",
        "    plt.ylabel('Score de bonheur (Life Ladder)')\n",
        "    plt.xticks(rotation=45)\n",
        "    plt.show()\n"
      ]
    },
    {
      "cell_type": "code",
      "execution_count": null,
      "id": "9997cc1a",
      "metadata": {
        "id": "9997cc1a"
      },
      "outputs": [],
      "source": [
        "# Commentaire\n",
        "# Interprétation :\n",
        "#1) Les scores de bonheur semblent avoir augmenté au fil des années, avec une légère variation d’une année à l’autre.\n",
        "# 2) La médiane (ligne au milieu de chaque boîte) semble également augmenter progressivement.\n",
        "# 3) Les valeurs aberrantes en 2020 pourraient être dues à des circonstances exceptionnelles (comme la pandémie de COVID-19)."
      ]
    },
    {
      "cell_type": "code",
      "execution_count": null,
      "id": "ad018b44",
      "metadata": {
        "id": "ad018b44"
      },
      "outputs": [],
      "source": []
    },
    {
      "cell_type": "markdown",
      "id": "d29c4a71",
      "metadata": {
        "id": "d29c4a71"
      },
      "source": [
        "b- Un histogramme nous permettra de voir la distribution du score de bonheur parmi les différents pays."
      ]
    },
    {
      "cell_type": "code",
      "execution_count": null,
      "id": "04a318c3",
      "metadata": {
        "id": "04a318c3"
      },
      "outputs": [],
      "source": [
        "# Créer le displot avec seaborn\n",
        "plt.figure(figsize=(20, 10))\n",
        "sns.histplot(df['Life Ladder'], kde=True, bins=10, color='skyblue', edgecolor='black')\n",
        "plt.title('Distribution du score de bonheur')\n",
        "plt.xlabel('Score de bonheur (Life Ladder)')\n",
        "plt.ylabel('Fréquence')\n",
        "plt.show()\n"
      ]
    },
    {
      "cell_type": "code",
      "execution_count": null,
      "id": "384ca6ec",
      "metadata": {
        "id": "384ca6ec"
      },
      "outputs": [],
      "source": [
        "#Commentaire\n",
        "# - Le graphe montre la fréquence des différents scores de bonheur sur une échelle de 0 à 8, où 0 représente\n",
        "#le moins heureux et 8 le plus heureux.\n",
        "\n",
        "# - La forme du graphe est asymétrique, avec une queue plus longue vers la gauche.\n",
        "#Cela indique qu’il y a plus de gens qui ont un score de bonheur inférieur à la moyenne que supérieur à la moyenne.\n",
        "\n",
        "# -"
      ]
    },
    {
      "cell_type": "markdown",
      "id": "110d2219",
      "metadata": {
        "id": "110d2219"
      },
      "source": [
        "C- Comparaison par niveau de développement économique :"
      ]
    },
    {
      "cell_type": "code",
      "execution_count": null,
      "id": "97b16858",
      "metadata": {
        "id": "97b16858"
      },
      "outputs": [],
      "source": [
        "# Définir les catégories de développement économique\n",
        "def economic_category(gdp):\n",
        "    if gdp >= df['Log GDP per capita'].median():\n",
        "        return 'Élevé'\n",
        "    else:\n",
        "        return 'Bas'\n",
        "\n",
        "df['Economic Category'] = df['Log GDP per capita'].apply(economic_category)\n",
        "\n",
        "plt.figure(figsize=(10, 6))\n",
        "sns.barplot(x='Economic Category', y='Life Ladder', data=df)\n",
        "plt.title('Comparaison du score de bonheur par niveau de développement économique')\n",
        "plt.xlabel('Niveau de développement économique')\n",
        "plt.ylabel('Score de bonheur moyen (Life Ladder)')\n",
        "plt.xticks(rotation=45)\n",
        "plt.show()"
      ]
    },
    {
      "cell_type": "code",
      "execution_count": null,
      "id": "f9075e65",
      "metadata": {
        "id": "f9075e65"
      },
      "outputs": [],
      "source": [
        "# Ce graphique montre que le niveau de développement économique a une influence positive sur le score moyen de bonheur .\n",
        "#Les pays avec un niveau de développement économique élevé ont un score de bonheur plus élevé que ceux avec un niveau bas.\n"
      ]
    },
    {
      "cell_type": "code",
      "execution_count": null,
      "id": "913a3984",
      "metadata": {
        "id": "913a3984"
      },
      "outputs": [],
      "source": []
    },
    {
      "cell_type": "code",
      "execution_count": null,
      "id": "db259ea7",
      "metadata": {
        "id": "db259ea7"
      },
      "outputs": [],
      "source": [
        "\n",
        "# Créer le boxenplot avec seaborn\n",
        "plt.figure(figsize=(12, 8))\n",
        "sns.boxenplot(x='Life Ladder', y='Regional indicator', data=df, palette='viridis')\n",
        "plt.title('Distribution des scores de bonheur par région')\n",
        "plt.xlabel('Score de bonheur (Life Ladder)')\n",
        "plt.ylabel('Région')\n",
        "\n",
        "plt.show()\n"
      ]
    },
    {
      "cell_type": "code",
      "execution_count": null,
      "id": "c3c1257b",
      "metadata": {
        "id": "c3c1257b"
      },
      "outputs": [],
      "source": [
        "# - Pour l’Australie et la Nouvelle-Zélande, on peut dire :\n",
        "#Cette région a le score de bonheur moyen le plus élevé, avec environ 5,2. Son boite à moustache est étroit et symétrique,\n",
        "#ce qui signifie que les scores de bonheur sont peu dispersés et proches de la moyenne.\n",
        "#Il n’y a pas de valeurs aberrantes, ce qui signifie que tous les pays de cette région ont un niveau de bonheur similaire.\n",
        "\n",
        "# - Pour l’Afrique subsaharienne, on peut dire :\n",
        "# Cette région a le score de bonheur moyen le plus bas, avec environ 4,1. Son boite à moustache est large et asymétrique,\n",
        "#ce qui signifie que les scores de bonheur sont très dispersés et plus faibles que la moyenne.\n",
        "#Il y a plusieurs valeurs aberrantes, ce qui signifie que certains pays de cette région ont un niveau de bonheur très différent\n",
        "#des autres.\n",
        "\n",
        "# - Pour l’Europe occidentale, on peut dire :\n",
        "# Cette région a un score de bonheur moyen élevé, avec environ 5,1.\n",
        "#Son boite à moustache est étroit et légèrement asymétrique,\n",
        "#ce qui signifie que les scores de bonheur sont peu dispersés et légèrement supérieurs à la moyenne.\n",
        "#Il y a quelques valeurs aberrantes, ce qui signifie que certains pays de cette région ont un niveau de bonheur plus bas ou plus haut que les autres."
      ]
    },
    {
      "cell_type": "code",
      "execution_count": null,
      "id": "2514a14f",
      "metadata": {
        "id": "2514a14f"
      },
      "outputs": [],
      "source": [
        "\n"
      ]
    },
    {
      "cell_type": "markdown",
      "id": "442bea6b",
      "metadata": {
        "id": "442bea6b"
      },
      "source": [
        "D - Affichage de la matrice de correlation des variable num  "
      ]
    },
    {
      "cell_type": "code",
      "execution_count": null,
      "id": "43f7ab23",
      "metadata": {
        "id": "43f7ab23"
      },
      "outputs": [],
      "source": [
        "#Affichage de la matrice de corrélation par heatmap\n",
        "df_base_numeric = df.select_dtypes(include=['float64', 'int64'])\n",
        "\n",
        "# Calcul de la matrice de corrélation\n",
        "corr_matrix = df_base_numeric.corr()\n",
        "\n",
        "# Création de la heatmap avec seaborn\n",
        "plt.figure(figsize=(10,8))\n",
        "sns.heatmap(data=corr_matrix, annot=True)\n",
        "plt.show()"
      ]
    },
    {
      "cell_type": "code",
      "execution_count": null,
      "id": "566c6fdc",
      "metadata": {
        "id": "566c6fdc"
      },
      "outputs": [],
      "source": [
        "# - Le coefficient entre “Life Ladder” et “Log GDP per capita” est de 0,79,\n",
        "# ce qui signifie qu’il y a une corrélation positive forte entre ces deux variables.\n",
        "# Cela implique que plus le produit intérieur brut par habitant est élevé, plus le score de bonheur est élevé, et vice versa.\n",
        "\n",
        "# - Le coefficient entre “Freedom to make life choices” et “Perceptions of corruption” est de -0,44,\n",
        "#ce qui signifie qu’il y a une corrélation négative modérée entre ces deux variables.\n",
        "#Cela implique que plus la liberté de choix est élevée, plus la perception de la corruption est faible, et vice versa.\n",
        "\n",
        "# - Le coefficient entre “Generosity” et “Log GDP per capita” est de 0,000092,\n",
        "#ce qui signifie qu’il n’y a pratiquement pas de corrélation entre ces deux variables.\n",
        "#Cela implique que le niveau de générosité n’est pas lié au niveau de richesse, et qu’il peut varier indépendamment."
      ]
    },
    {
      "cell_type": "code",
      "execution_count": null,
      "id": "1b30c37e",
      "metadata": {
        "id": "1b30c37e"
      },
      "outputs": [],
      "source": [
        "# Après l'analyse de la matrice de corrélation on essaye d'afficher certaines variables les plus corrélées avec la variable cible.\n",
        "plt.figure(figsize=[20, 10])\n",
        "\n",
        "# Premier sous-graphique\n",
        "plt.subplot(1, 2, 1)\n",
        "sns.scatterplot(y=df[\"Life Ladder\"], x=df[\"Log GDP per capita\"])\n",
        "sns.regplot(y=df[\"Life Ladder\"], x=df[\"Log GDP per capita\"], scatter=False, color='red')  # Ajouter une ligne de régression\n",
        "plt.ylabel(\"Life Ladder\")\n",
        "plt.xlabel(\"Log GDP per capita\")\n",
        "plt.title(\"Nuage de points et régression de Log GDP per capita vs Life Ladder\")\n",
        "\n",
        "# Deuxième sous-graphique\n",
        "plt.subplot(1, 2, 2)\n",
        "sns.scatterplot(y=df[\"Life Ladder\"], x=df[\"Social support\"])\n",
        "sns.regplot(y=df[\"Life Ladder\"], x=df[\"Social support\"], scatter=False, color='green')  # Ajouter une ligne de régression\n",
        "plt.ylabel(\"Life Ladder\")\n",
        "plt.xlabel(\"Social support\")\n",
        "plt.title(\"Nuage de points et régression de Social support vs Life Ladder\")\n",
        "\n",
        "# Afficher les deux sous-graphiques\n",
        "plt.tight_layout()\n",
        "plt.show()"
      ]
    },
    {
      "cell_type": "code",
      "execution_count": null,
      "id": "a3fd3347",
      "metadata": {
        "id": "a3fd3347"
      },
      "outputs": [],
      "source": [
        "#même procédure sur d'autre variable, et entre \"Log GDP per capita\" et \"Healthy life expectancy at birth\"\n",
        "\n",
        "plt.figure(figsize=[20, 10])\n",
        "# Premier sous-graphique : Life Ladder vs Log GDP per capita\n",
        "plt.subplot(1, 2, 1)\n",
        "sns.scatterplot(y=df[\"Life Ladder\"], x=df[\"Healthy life expectancy at birth\"])\n",
        "sns.regplot(y=df[\"Life Ladder\"], x=df[\"Healthy life expectancy at birth\"], scatter=False, color='red')  # Ajouter une ligne de régression\n",
        "plt.ylabel(\"Life Ladder\")\n",
        "plt.xlabel(\"Healthy life expectancy at birth\")\n",
        "plt.title(\"Nuage de points et régression de Healthy life expectancy at birth\")\n",
        "\n",
        "# Deuxième sous-graphique : Log GDP per capita vs Healthy life expectancy at birth\n",
        "plt.subplot(1, 2, 2)\n",
        "sns.scatterplot(x=df[\"Log GDP per capita\"], y=df[\"Healthy life expectancy at birth\"])\n",
        "sns.regplot(x=df[\"Log GDP per capita\"], y=df[\"Healthy life expectancy at birth\"], scatter=False, color='green')  # Ajouter une ligne de régression\n",
        "plt.xlabel(\"Log GDP per capita\")\n",
        "plt.ylabel(\"Healthy life expectancy at birth\")\n",
        "plt.title(\"Nuage de points et régression de Healthy life expectancy at birth vs Log GDP per capita\")\n",
        "\n",
        "# Afficher les deux sous-graphiques\n",
        "plt.tight_layout()\n",
        "plt.show()"
      ]
    },
    {
      "cell_type": "code",
      "execution_count": null,
      "id": "df94598e",
      "metadata": {
        "id": "df94598e"
      },
      "outputs": [],
      "source": [
        "import plotly.express as px\n",
        "\n",
        "# Tracer le nuage de points interactif avec Plotly Express\n",
        "fig = px.scatter(df,\n",
        "                 x=\"Log GDP per capita\",\n",
        "                 y=\"Life Ladder\",\n",
        "                 animation_frame=\"year\",\n",
        "                 animation_group=\"Country name\",\n",
        "\n",
        "                 color=\"Social support\",\n",
        "                 hover_name=\"Country name\",\n",
        "                 size_max=200,\n",
        "                 template=\"plotly_white\")\n",
        "\n",
        "# Mettre à jour le titre du graphique\n",
        "fig.update_layout(title=\"comparaison de Life Ladder and Log GDP per capita par country name pour chaque années\")\n",
        "\n",
        "# Afficher le graphique\n",
        "fig.show()\n"
      ]
    },
    {
      "cell_type": "code",
      "execution_count": null,
      "id": "e72bc0be",
      "metadata": {
        "id": "e72bc0be"
      },
      "outputs": [],
      "source": [
        "\n",
        "# Remplacer les valeurs manquantes par la médiane pour toutes les variables sauf \"Social support\"\n",
        "cols_to_fill_median = [\"Log GDP per capita\", \"Healthy life expectancy at birth\", \"Generosity\", \"Positive affect\", \"Negative affect\"]\n",
        "median_values = df[cols_to_fill_median].median()\n",
        "df[cols_to_fill_median] = df[cols_to_fill_median].fillna(median_values)\n",
        "\n",
        "# Remplacer les valeurs manquantes de \"Social support\" par son mode\n",
        "cols_to_fill_mode = [\"Social support\", \"Freedom to make life choices\", \"Perceptions of corruption\"]\n",
        "mode_values = df[cols_to_fill_mode].mode().iloc[0]\n",
        "df[cols_to_fill_mode] = df[cols_to_fill_mode].fillna(mode_values)\n",
        "\n",
        "# Vérifier que toutes les valeurs manquantes ont été remplacées\n",
        "print(df.isnull().sum())"
      ]
    },
    {
      "cell_type": "code",
      "execution_count": null,
      "id": "09415fab",
      "metadata": {
        "id": "09415fab"
      },
      "outputs": [],
      "source": [
        "import plotly.express as px\n",
        "import numpy as np\n",
        "\n",
        "# Tracer le nuage de points 3D avec Plotly Express\n",
        "fig = px.scatter_3d(df,\n",
        "                 x=\"Log GDP per capita\",\n",
        "                 y=\"Life Ladder\",\n",
        "                 z=\"Freedom to make life choices\",\n",
        "                 animation_frame=\"year\",\n",
        "                 animation_group=\"Country name\",\n",
        "\n",
        "                 color=\"Social support\",\n",
        "                 hover_name=\"Country name\",\n",
        "                 size=5 * df[\"Freedom to make life choices\"],\n",
        "                 size_max=20,\n",
        "                 template=\"plotly_white\")\n",
        "\n",
        "# Mettre à jour le titre du graphique\n",
        "fig.update_layout(title=\"comparaison de Life Ladder, Log GDP per capita et Freedom to make life choices par country name pour chaque années\")\n",
        "\n",
        "# Filtrer les valeurs valides de la taille des points\n",
        "valid_size = np.isfinite(fig.data[0].marker.size)\n",
        "\n",
        "# Mettre à jour les données du graphique avec les valeurs filtrées\n",
        "fig.data[0].update(x=fig.data[0].x[valid_size],\n",
        "                   y=fig.data[0].y[valid_size],\n",
        "                   z=fig.data[0].z[valid_size],\n",
        "                   marker_size=fig.data[0].marker.size[valid_size])\n",
        "\n",
        "# Afficher le graphique\n",
        "fig.show()\n"
      ]
    },
    {
      "cell_type": "code",
      "execution_count": null,
      "id": "fa1b924b",
      "metadata": {
        "id": "fa1b924b"
      },
      "outputs": [],
      "source": []
    },
    {
      "cell_type": "markdown",
      "id": "de4aeb95",
      "metadata": {
        "id": "de4aeb95"
      },
      "source": [
        "## 2 - Traitement des données"
      ]
    },
    {
      "cell_type": "markdown",
      "id": "9b12edad",
      "metadata": {
        "id": "9b12edad"
      },
      "source": [
        "### Etape 3/ Nettoyage et Pre-processing : 26/04"
      ]
    },
    {
      "cell_type": "code",
      "execution_count": null,
      "id": "cccc076b",
      "metadata": {
        "id": "cccc076b"
      },
      "outputs": [],
      "source": []
    }
  ],
  "metadata": {
    "kernelspec": {
      "display_name": "Python 3 (ipykernel)",
      "language": "python",
      "name": "python3"
    },
    "language_info": {
      "codemirror_mode": {
        "name": "ipython",
        "version": 3
      },
      "file_extension": ".py",
      "mimetype": "text/x-python",
      "name": "python",
      "nbconvert_exporter": "python",
      "pygments_lexer": "ipython3",
      "version": "3.11.5"
    },
    "colab": {
      "provenance": [],
      "include_colab_link": true
    }
  },
  "nbformat": 4,
  "nbformat_minor": 5
}